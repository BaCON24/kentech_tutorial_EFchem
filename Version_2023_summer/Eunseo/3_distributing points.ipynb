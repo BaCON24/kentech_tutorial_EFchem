{
  "cells": [
    {
      "cell_type": "markdown",
      "metadata": {
        "id": "view-in-github",
        "colab_type": "text"
      },
      "source": [
        "<a href=\"https://colab.research.google.com/github/Jeongmin0658/kentech_tutorial/blob/main/Version_2023_summer/Eunseo/3_distributing%20points.ipynb\" target=\"_parent\"><img src=\"https://colab.research.google.com/assets/colab-badge.svg\" alt=\"Open In Colab\"/></a>"
      ]
    },
    {
      "cell_type": "markdown",
      "id": "664a9a93",
      "metadata": {
        "id": "664a9a93"
      },
      "source": [
        "# Part III. Distributing points"
      ]
    },
    {
      "cell_type": "markdown",
      "id": "fb3359fc",
      "metadata": {
        "id": "fb3359fc"
      },
      "source": [
        "# 1 - Distribution of random points in 1D"
      ]
    },
    {
      "cell_type": "code",
      "execution_count": 5,
      "id": "12ca481d",
      "metadata": {
        "id": "12ca481d",
        "outputId": "fafad61f-f636-4705-c1ae-f3bdbcdcf539",
        "colab": {
          "base_uri": "https://localhost:8080/",
          "height": 345
        }
      },
      "outputs": [
        {
          "output_type": "stream",
          "name": "stdout",
          "text": [
            "[ 8.45699116  5.40727645  8.73092143 18.35838516 13.13321206 16.71734847\n",
            "  6.41247706 17.37437089 10.92800494 14.23511878 16.18290114 10.1628347\n",
            "  7.33323555 10.21645923 14.28936694 15.11299295 17.93626498  3.43503501\n",
            " 15.52707832 18.62631469  7.13875461 13.3109531  15.70089693  4.93572917\n",
            " 18.96234764  8.81777801 19.33310244 16.17602551  4.5082333  17.05253648]\n"
          ]
        },
        {
          "output_type": "display_data",
          "data": {
            "text/plain": [
              "<Figure size 1000x200 with 1 Axes>"
            ],
            "image/png": "[encoded data removed]"
          },
          "metadata": {}
        }
      ],
      "source": [
        "import numpy as np\n",
        "import matplotlib.pyplot as plt\n",
        "\n",
        "def generate_random_points(lower_bound, upper_bound, num_points):\n",
        "    return np.random.uniform(lower_bound, upper_bound, num_points)\n",
        "\n",
        "# Test the function\n",
        "# Feed in your numbers\n",
        "lower_bound = 3  # Lower bound of the interval\n",
        "upper_bound = 20  # Upper bound of the interval\n",
        "num_points = 30 # Number of random points to generate\n",
        "random_points = generate_random_points(lower_bound, upper_bound, num_points)\n",
        "\n",
        "# print the random points\n",
        "print(random_points)\n",
        "\n",
        "# plot the points\n",
        "plt.figure(figsize=(10, 2))\n",
        "plt.scatter(random_points, np.zeros_like(random_points), marker='o')\n",
        "plt.xlim([lower_bound, upper_bound])\n",
        "plt.yticks([])  # Hide the y-axis\n",
        "plt.xlabel('x')\n",
        "plt.title('Random points on a 1D interval')\n",
        "plt.show()\n"
      ]
    },
    {
      "cell_type": "markdown",
      "id": "90410aa5",
      "metadata": {
        "id": "90410aa5"
      },
      "source": [
        "# 2 - Distributing random points in 2D"
      ]
    },
    {
      "cell_type": "code",
      "source": [
        "import numpy as np\n",
        "import matplotlib.pyplot as plt\n",
        "\n",
        "def generate_random_points_2D(x_bounds, y_bounds, num_points):\n",
        "    # Make your own function\n",
        "    x_coords = generate_random_points(x_bounds[0], x_bounds[1], num_points)\n",
        "    y_coords = generate_random_points(y_bounds[0], y_bounds[1], num_points)\n",
        "\n",
        "    return x_coords, y_coords\n",
        "\n",
        "# Test the function\n",
        "# Here is the example of the bounds\n",
        "x_bounds = [5, 15]  # Bounds for the x-coordinates\n",
        "y_bounds = [10, 20]  # Bounds for the y-coordinates\n",
        "num_points = 200  # Number of random points to generate\n",
        "\n",
        "# Call the function\n",
        "x_coords, y_coords = generate_random_points_2D(x_bounds, y_bounds, num_points)\n",
        "\n",
        "\n",
        "# Plot the points\n",
        "plt.figure(figsize=(6, 6))\n",
        "plt.scatter(x_coords, y_coords, marker='o')\n",
        "plt.xlim(x_bounds)\n",
        "plt.ylim(y_bounds)\n",
        "plt.xlabel('x')\n",
        "plt.ylabel('y')\n",
        "plt.title('Random points in a 2D interval')\n",
        "plt.show()"
      ],
      "metadata": {
        "id": "EZ6iO3PFFhK1"
      },
      "id": "EZ6iO3PFFhK1",
      "execution_count": null,
      "outputs": []
    },
    {
      "cell_type": "markdown",
      "id": "03ebd04a",
      "metadata": {
        "id": "03ebd04a"
      },
      "source": [
        "# 3 - Find pairs of points with an overlap"
      ]
    },
    {
      "cell_type": "code",
      "source": [],
      "metadata": {
        "id": "ZR_S_xUGGdGB"
      },
      "id": "ZR_S_xUGGdGB",
      "execution_count": null,
      "outputs": []
    },
    {
      "cell_type": "markdown",
      "id": "ee148828",
      "metadata": {
        "id": "ee148828"
      },
      "source": [
        "Below is an example where some of points overlap (within a certain distance). You will write a function to find those pairs."
      ]
    },
    {
      "cell_type": "markdown",
      "id": "89368158",
      "metadata": {
        "id": "89368158"
      },
      "source": [
        "![Unknown.png](attachment:Unknown.png)"
      ]
    },
    {
      "cell_type": "raw",
      "id": "1baadb26",
      "metadata": {
        "id": "1baadb26"
      },
      "source": [
        "Below is an example\n",
        "\n",
        "\"\"\"\n",
        "import matplotlib.pyplot as plt\n",
        "\n",
        "# Parameters\n",
        "x_bounds = [5, 15]  # Bounds for the x-coordinates\n",
        "y_bounds = [10, 20]  # Bounds for the y-coordinates\n",
        "num_points = 200  # Number of random points to generate\n",
        "distance = 0.5\n",
        "\n",
        "# Random distribution of points\n",
        "x_coords, y_coords = generate_random_points_2D(x_bounds, y_bounds, num_points)\n",
        "\n",
        "# Find the pairs of points that are within a distance from each other\n",
        "# Plot the points and the pairs\n",
        "pairs = find_pairs(x_coords, y_coords, distance)\n",
        "\n",
        "# Plot random points and the pairs\n",
        "plot_pairs(points, pairs)\n",
        "\"\"\"\n"
      ]
    },
    {
      "cell_type": "markdown",
      "id": "236a3323",
      "metadata": {
        "id": "236a3323"
      },
      "source": [
        "# 4 - Generating random points without overlaps"
      ]
    },
    {
      "cell_type": "code",
      "execution_count": null,
      "id": "4ce73472",
      "metadata": {
        "id": "4ce73472"
      },
      "outputs": [],
      "source": []
    }
  ],
  "metadata": {
    "kernelspec": {
      "display_name": "Python 3 (ipykernel)",
      "language": "python",
      "name": "python3"
    },
    "language_info": {
      "codemirror_mode": {
        "name": "ipython",
        "version": 3
      },
      "file_extension": ".py",
      "mimetype": "text/x-python",
      "name": "python",
      "nbconvert_exporter": "python",
      "pygments_lexer": "ipython3",
      "version": "3.10.9"
    },
    "colab": {
      "provenance": [],
      "include_colab_link": true
    }
  },
  "nbformat": 4,
  "nbformat_minor": 5
}