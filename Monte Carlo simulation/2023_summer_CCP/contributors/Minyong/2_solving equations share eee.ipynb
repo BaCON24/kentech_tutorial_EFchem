{
  "cells": [
    {
      "cell_type": "markdown",
      "metadata": {
        "id": "view-in-github",
        "colab_type": "text"
      },
      "source": [
        "<a href=\"https://colab.research.google.com/github/Jeongmin0658/kentech_tutorial/blob/main/Monte%20Carlo%20simulation/2023_summer_CCP/contributors/Minyong/2_solving%20equations%20share%20eee.ipynb\" target=\"_parent\"><img src=\"https://colab.research.google.com/assets/colab-badge.svg\" alt=\"Open In Colab\"/></a>"
      ]
    },
    {
      "cell_type": "markdown",
      "id": "1a17cc80",
      "metadata": {
        "id": "1a17cc80"
      },
      "source": [
        "# Part II. Solving equations"
      ]
    },
    {
      "cell_type": "markdown",
      "id": "e61da9bb",
      "metadata": {
        "id": "e61da9bb"
      },
      "source": [
        "# 1 - Solving a quadratic equation with discriminant"
      ]
    },
    {
      "cell_type": "code",
      "execution_count": 1,
      "id": "4d658968",
      "metadata": {
        "colab": {
          "base_uri": "https://localhost:8080/"
        },
        "id": "4d658968",
        "outputId": "86dce1a3-90ba-4965-b3fd-e44bee093636"
      },
      "outputs": [
        {
          "output_type": "stream",
          "name": "stdout",
          "text": [
            "The solutions are (-2+0j) and (-1+0j)\n"
          ]
        }
      ],
      "source": [
        "import cmath # Complex math module\n",
        "\n",
        "def solve_quadratic(a, b, c):\n",
        "    # Here you define the discriminant, D\n",
        "    D = b**2-4*a*c\n",
        "\n",
        "    # calculate two solutions\n",
        "    sol1 = (-b - cmath.sqrt(D)) / (2 * a)\n",
        "    sol2 = (-b + cmath.sqrt(D)) / (2 * a)\n",
        "\n",
        "    return sol1, sol2\n",
        "\n",
        "# Test the function\n",
        "# Feed your numbers a,b,c\n",
        "a = 1\n",
        "b = 3\n",
        "c = 2\n",
        "\n",
        "sol1, sol2 = solve_quadratic(a, b, c)\n",
        "\n",
        "print(f\"The solutions are {sol1} and {sol2}\")\n"
      ]
    },
    {
      "cell_type": "markdown",
      "id": "7d159c03",
      "metadata": {
        "id": "7d159c03"
      },
      "source": [
        "# 2 - Checking if there is a real solution: Use if statement"
      ]
    },
    {
      "cell_type": "code",
      "execution_count": 5,
      "id": "812a3d3b",
      "metadata": {
        "colab": {
          "base_uri": "https://localhost:8080/"
        },
        "id": "812a3d3b",
        "outputId": "9793f9b4-e2e5-4732-feb2-f8ff9a2c157e"
      },
      "outputs": [
        {
          "output_type": "stream",
          "name": "stdout",
          "text": [
            "There are 0 real solution(s).\n",
            "There are no real solutions, but two complex solutions: (-0.5+1.3228756555322954j) and (-0.5-1.3228756555322954j).\n"
          ]
        }
      ],
      "source": [
        "import cmath\n",
        "\n",
        "def solve_quadratic(a, b, c):\n",
        "    # Calculate the discriminant\n",
        "    D = b**2 - 4*a*c\n",
        "    sol1= (-b+cmath.sqrt(D))/(2*a)\n",
        "    sol2= (-b-cmath.sqrt(D))/(2*a)\n",
        "    if D>0 :\n",
        "      num_solutions=2\n",
        "    elif D==0 :\n",
        "      num_solutions=1\n",
        "    else :\n",
        "      num_solutions=0\n",
        "    return num_solutions, sol1, sol2\n",
        "    # Determine the number and type of solutions based on the discriminant\n",
        "    # Return number of real solutions, and two solutions\n",
        "\n",
        "# Test the function\n",
        "a = 1\n",
        "b = 1\n",
        "c = 2\n",
        "\n",
        "#\n",
        "num_solutions, sol1, sol2 = solve_quadratic(a, b, c)\n",
        "\n",
        "print(f\"There are {num_solutions} real solution(s).\")\n",
        "if num_solutions == 2:\n",
        "    print(f\"The solutions are {sol1} and {sol2}.\")\n",
        "elif num_solutions == 1:\n",
        "    print(f\"The solution is {sol1}.\")\n",
        "else:\n",
        "    print(f\"There are no real solutions, but two complex solutions: {sol1} and {sol2}.\")\n"
      ]
    },
    {
      "cell_type": "markdown",
      "id": "979b8649",
      "metadata": {
        "id": "979b8649"
      },
      "source": [
        "# Now move on to Numerical solver\n",
        "# 3 - Newton's method\n"
      ]
    },
    {
      "cell_type": "code",
      "execution_count": 3,
      "id": "1b9e62a7",
      "metadata": {
        "colab": {
          "base_uri": "https://localhost:8080/",
          "height": 526
        },
        "id": "1b9e62a7",
        "outputId": "d616e45a-617f-429e-fffe-6186ede93c5a"
      },
      "outputs": [
        {
          "output_type": "stream",
          "name": "stdout",
          "text": [
            "Found solution after 11 iterations.\n",
            "Root is at: 0.999755859375\n",
            "f(root)= 5.960464477539063e-08\n"
          ]
        },
        {
          "output_type": "display_data",
          "data": {
            "text/plain": [
              "<Figure size 640x480 with 1 Axes>"
            ],
            "image/png": "[encoded data removed]"
          },
          "metadata": {}
        }
      ],
      "source": [
        "import matplotlib.pyplot as plt\n",
        "import numpy as np\n",
        "\n",
        "def f(x):\n",
        "    return a*x**2 + b*x + c\n",
        "\n",
        "def df(x):\n",
        "    return 2*a*x + b\n",
        "\n",
        "def newton_method(x0, f, df, epsilon=1e-7, max_iter=1000):\n",
        "    \"\"\"\n",
        "    Function to apply Newton's method for solving equation f(x)=0.\n",
        "\n",
        "    Parameters:\n",
        "    x0 - initial guess\n",
        "    f - function\n",
        "    df - derivative of the function\n",
        "    epsilon - stopping criteria is abs(f(x)) < epsilon\n",
        "    max_iter - maximum number of iterations\n",
        "    \"\"\"\n",
        "\n",
        "    xn = x0\n",
        "    x_steps = [x0]\n",
        "    for n in range(0,max_iter):\n",
        "        fxn = f(xn)\n",
        "        if abs(fxn) < epsilon:\n",
        "            print('Found solution after',n,'iterations.')\n",
        "            return xn, x_steps\n",
        "        dfxn = df(xn)\n",
        "        if dfxn == 0:\n",
        "            print('Zero derivative. No solution found.')\n",
        "            return None, None\n",
        "        xn = xn - fxn/dfxn\n",
        "        x_steps.append(xn)\n",
        "    print('Exceeded maximum iterations. No solution found.')\n",
        "    return None, None\n",
        "\n",
        "# coefficients of the quadratic equation\n",
        "a = 1\n",
        "b = -2\n",
        "c = 1\n",
        "\n",
        "# Initial guess\n",
        "x0 = 0.5\n",
        "\n",
        "# Call the function\n",
        "root, steps = newton_method(x0, f, df)\n",
        "# Plot solution versus iteration\n",
        "# Title: \"Convergence of Newton's method\"\n",
        "# xlabel: Iteration\n",
        "# ylabel: x\n",
        "# Data plot with line and mark\n",
        "if root is not None:\n",
        "  print(\"Root is at:\", root)\n",
        "  print(\"f(root)=\", f(root))\n",
        "else:\n",
        "  print(\"No root found\")\n",
        "\n",
        "fig, ax= plt.subplots()\n",
        "x=np.arange(0,len(steps))\n",
        "\n",
        "ax.plot(x,steps)\n",
        "ax.scatter(x,steps)\n",
        "ax.grid()\n",
        "\n",
        "ax.set_xlabel('Iteration')\n",
        "ax.set_ylabel('x')\n",
        "ax.set_title(\"Convergence of Newton's method\")\n",
        "plt.show()"
      ]
    },
    {
      "cell_type": "code",
      "source": [],
      "metadata": {
        "id": "H90XsDERWNYq"
      },
      "id": "H90XsDERWNYq",
      "execution_count": null,
      "outputs": []
    },
    {
      "cell_type": "code",
      "execution_count": null,
      "id": "c2709353",
      "metadata": {
        "id": "c2709353"
      },
      "outputs": [],
      "source": []
    }
  ],
  "metadata": {
    "kernelspec": {
      "display_name": "Python 3 (ipykernel)",
      "language": "python",
      "name": "python3"
    },
    "language_info": {
      "codemirror_mode": {
        "name": "ipython",
        "version": 3
      },
      "file_extension": ".py",
      "mimetype": "text/x-python",
      "name": "python",
      "nbconvert_exporter": "python",
      "pygments_lexer": "ipython3",
      "version": "3.10.9"
    },
    "colab": {
      "provenance": [],
      "include_colab_link": true
    }
  },
  "nbformat": 4,
  "nbformat_minor": 5
}