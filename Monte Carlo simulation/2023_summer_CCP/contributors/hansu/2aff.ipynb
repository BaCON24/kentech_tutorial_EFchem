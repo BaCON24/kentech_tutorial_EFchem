{
  "cells": [
    {
      "cell_type": "markdown",
      "id": "1a17cc80",
      "metadata": {
        "id": "1a17cc80"
      },
      "source": [
        "# Part II. Solving equations"
      ]
    },
    {
      "cell_type": "markdown",
      "id": "e61da9bb",
      "metadata": {
        "id": "e61da9bb"
      },
      "source": [
        "# 1 - Solving a quadratic equation with discriminant"
      ]
    },
    {
      "cell_type": "code",
      "execution_count": 7,
      "id": "4d658968",
      "metadata": {
        "colab": {
          "base_uri": "https://localhost:8080/"
        },
        "id": "4d658968",
        "outputId": "24a3af81-79e4-484f-834d-34c8562b4128"
      },
      "outputs": [
        {
          "output_type": "stream",
          "name": "stdout",
          "text": [
            "The solutions are (0.5857864376269049+0j) and (3.414213562373095+0j)\n",
            "the number of real solution(including same) is 2\n",
            "(0.5857864376269049+0j)\n"
          ]
        }
      ],
      "source": [
        "import cmath # Complex math module\n",
        "\n",
        "def cs(a, b, c):\n",
        "    # Here you define the discriminant, D\n",
        "    #ax^2+b*x +c = 0\n",
        "    D = b ** 2-4*a*c\n",
        "    if D < 0:\n",
        "      return 0\n",
        "    elif D ==0:\n",
        "      return 1\n",
        "    elif D > 0:\n",
        "      return 2\n",
        "\n",
        "def sole(a,b,c):\n",
        "  number = cs(a, b, c)\n",
        "  D = b ** 2-4*a*c\n",
        "\n",
        "  # calculate two solutions\n",
        "  sol1 = (-b - cmath.sqrt(D)) / (2 * a)\n",
        "  sol2 = (-b + cmath.sqrt(D)) / (2 * a)\n",
        "\n",
        "  return number ,sol1, sol2\n",
        "\n",
        "# Test the function\n",
        "# Feed your numbers a,b,c\n",
        "a = 1\n",
        "b = -4\n",
        "c = 2\n",
        "\n",
        "number ,sol1, sol2 = sole(a, b, c)\n",
        "\n",
        "print(f\"The solutions are {sol1} and {sol2}\")\n",
        "print(f\"the number of real solution(including same) is {number}\")\n",
        "print(sol1)"
      ]
    },
    {
      "cell_type": "markdown",
      "id": "7d159c03",
      "metadata": {
        "id": "7d159c03"
      },
      "source": [
        "# 2 - Checking if there is a real solution: Use if statement"
      ]
    },
    {
      "cell_type": "code",
      "execution_count": null,
      "id": "812a3d3b",
      "metadata": {
        "id": "812a3d3b",
        "outputId": "fae00caa-09af-4c2f-bc79-28af6f508c48"
      },
      "outputs": [
        {
          "name": "stdout",
          "output_type": "stream",
          "text": [
            "There are 2 real solution(s).\n",
            "The solutions are -2.0 and 3.0.\n"
          ]
        }
      ],
      "source": [
        "import cmath\n",
        "\n",
        "def solve_quadratic(a, b, c):\n",
        "    # Calculate the discriminant\n",
        "    D = b**2 - 4*a*c\n",
        "\n",
        "    # Determine the number and type of solutions based on the discriminant\n",
        "    # Return number of real solutions, and two solutions\n",
        "\n",
        "\n",
        "# Test the function\n",
        "a = 1\n",
        "b = -1\n",
        "c = -6\n",
        "\n",
        "#\n",
        "num_solutions, sol1, sol2 = solve_quadratic(a, b, c)\n",
        "\n",
        "print(f\"There are {num_solutions} real solution(s).\")\n",
        "if num_solutions == 2:\n",
        "    print(f\"The solutions are {sol1} and {sol2}.\")\n",
        "elif num_solutions == 1:\n",
        "    print(f\"The solution is {sol1}.\")\n",
        "else:\n",
        "    print(f\"There are no real solutions, but two complex solutions: {sol1} and {sol2}.\")\n"
      ]
    },
    {
      "cell_type": "markdown",
      "id": "979b8649",
      "metadata": {
        "id": "979b8649"
      },
      "source": [
        "# Now move on to Numerical solver\n",
        "# 3 - Newton's method\n"
      ]
    },
    {
      "cell_type": "code",
      "execution_count": 20,
      "id": "1b9e62a7",
      "metadata": {
        "colab": {
          "base_uri": "https://localhost:8080/",
          "height": 466
        },
        "id": "1b9e62a7",
        "outputId": "7e40f74b-2afe-4f41-b3e3-bf006b41fbea"
      },
      "outputs": [
        {
          "output_type": "stream",
          "name": "stdout",
          "text": [
            "Found solution after 30 iterations.\n",
            "0.9999999943773116\n"
          ]
        },
        {
          "output_type": "display_data",
          "data": {
            "text/plain": [
              "<Figure size 640x480 with 1 Axes>"
            ],
            "image/png": "[encoded data removed]"
          },
          "metadata": {}
        }
      ],
      "source": [
        "import matplotlib.pyplot as plt\n",
        "import numpy as np\n",
        "import cmath\n",
        "def f(x):\n",
        "    return a*x**2 + b*x + c\n",
        "\n",
        "def df(x):\n",
        "    return 2*a*x + b\n",
        "\n",
        "def newton_method(x0, f, df, epsilon=0, max_iter=1000):\n",
        "    \"\"\"\n",
        "    Function to apply Newton's method for solving equation f(x)=0.\n",
        "\n",
        "    Parameters:\n",
        "    x0 - initial guess\n",
        "    f - function\n",
        "    df - derivative of the function\n",
        "    epsilon - stopping criteria is abs(f(x)) < epsilon\n",
        "    max_iter - maximum number of iterations\n",
        "    \"\"\"\n",
        "\n",
        "    xn = x0\n",
        "    x_steps = [x0]\n",
        "    for n in range(0,max_iter):\n",
        "        fxn = f(xn)\n",
        "        if abs(fxn) == epsilon:\n",
        "            print('Found solution after',n,'iterations.')\n",
        "            return xn, x_steps\n",
        "        dfxn = df(xn)\n",
        "        if dfxn == 0:\n",
        "            print('Zero derivative. No solution found.')\n",
        "            return None, None\n",
        "        xn = xn - fxn/dfxn\n",
        "        x_steps.append(xn)\n",
        "    print('Exceeded maximum iterations. No solution found.')\n",
        "    return None, None\n",
        "\n",
        "# coefficients of the quadratic equation\n",
        "a = 1\n",
        "b = -2\n",
        "c = 1\n",
        "\n",
        "# Initial guess\n",
        "x0 = -4\n",
        "\n",
        "# Call the function\n",
        "root, steps = newton_method(x0, f, df)\n",
        "# Plot solution versus iteration\n",
        "# Title: \"Convergence of Newton's method\"\n",
        "# xlabel: Iteration\n",
        "# ylabel: x\n",
        "# Data plot with line and mark\n",
        "\n",
        "x = np.linspace(-5, 5, 100)\n",
        "y = a*x**2+b*x+c\n",
        "fig, ax = plt.subplots()\n",
        "ax.plot(x,y)\n",
        "\n",
        "print(root)\n",
        "s = np.array(steps)\n",
        "y2 = a*s**2+b*s+c\n",
        "ax.scatter(s, y2)\n",
        "\n",
        "plt.show()"
      ]
    },
    {
      "cell_type": "code",
      "execution_count": null,
      "id": "c2709353",
      "metadata": {
        "id": "c2709353"
      },
      "outputs": [],
      "source": []
    }
  ],
  "metadata": {
    "kernelspec": {
      "display_name": "Python 3 (ipykernel)",
      "language": "python",
      "name": "python3"
    },
    "language_info": {
      "codemirror_mode": {
        "name": "ipython",
        "version": 3
      },
      "file_extension": ".py",
      "mimetype": "text/x-python",
      "name": "python",
      "nbconvert_exporter": "python",
      "pygments_lexer": "ipython3",
      "version": "3.10.9"
    },
    "colab": {
      "provenance": []
    }
  },
  "nbformat": 4,
  "nbformat_minor": 5
}