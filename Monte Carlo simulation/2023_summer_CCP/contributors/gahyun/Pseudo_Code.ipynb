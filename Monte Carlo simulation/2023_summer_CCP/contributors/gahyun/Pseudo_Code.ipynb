{
  "nbformat": 4,
  "nbformat_minor": 0,
  "metadata": {
    "colab": {
      "provenance": [],
      "authorship_tag": "ABX9TyOLD3vv2QbIZpoXrvxs5a+/",
      "include_colab_link": true
    },
    "kernelspec": {
      "name": "python3",
      "display_name": "Python 3"
    },
    "language_info": {
      "name": "python"
    }
  },
  "cells": [
    {
      "cell_type": "markdown",
      "metadata": {
        "id": "view-in-github",
        "colab_type": "text"
      },
      "source": [
        "<a href=\"https://colab.research.google.com/github/Jeongmin0658/kentech_tutorial/blob/main/Monte%20Carlo%20simulation/2023_summer_CCP/contributors/gahyun/Pseudo_Code.ipynb\" target=\"_parent\"><img src=\"https://colab.research.google.com/assets/colab-badge.svg\" alt=\"Open In Colab\"/></a>"
      ]
    },
    {
      "cell_type": "code",
      "execution_count": null,
      "metadata": {
        "id": "e95yICGFEMqR"
      },
      "outputs": [],
      "source": [
        "class MonteCarloPi:\n",
        "    initialize(num_points):\n",
        "        self.num_points = num_points\n",
        "\n",
        "method generate_points():\n",
        "        x = generate random values between 0 and 2 using np.random.uniform\n",
        "        y = generate random values between 0 and 2 using np.random.uniform\n",
        "        points = create a NumPy array by combining x and y coordinates\n",
        "        return points\n",
        "\n",
        "method inside_circle(points):\n",
        "        x_center = 1\n",
        "        y_center = 1\n",
        "        radius = 1\n",
        "        inside = an empty array\n",
        "        for i from 0 to self.num_points:\n",
        "            x = x-coordinate of points[i]\n",
        "            y = y-coordinate of points[i]\n",
        "            distance = calculate the squared distance between (x, y) and the circle's center\n",
        "            if distance < radius squared:\n",
        "                append True to inside\n",
        "            else:\n",
        "                append False to inside\n",
        "        convert inside array to a NumPy array and return it\n",
        "\n",
        "method estimate_pi():\n",
        "        points = generate_points()  # call the method above\n",
        "        inside = inside_circle(points)  # call the method above\n",
        "        pi_estimate = (number of True values in 'inside' array) / self.num_points * 4\n",
        "        return pi_estimate, points, inside\n",
        "\n",
        "method confidence_interval(estimates, confidence=0.95):\n",
        "        mean = calculate the mean of 'estimates'\n",
        "        standard_error = calculate the standard error of the mean using stats.sem\n",
        "        confidence_interval = calculate the t-score value for (1 + confidence) / 2 using stats.t.ppf\n",
        "        return mean, mean - confidence_interval, mean + confidence_interval\n",
        "\n",
        "method plot_points(points, inside):\n",
        "        create a plot with a size of 6x6\n",
        "        scatter plot blue points inside the circle and red points outside the circle\n",
        "        set the aspect ratio of the plot to be equal\n",
        "        show the plot\n",
        "\n",
        "method plot_convergence(pi_estimates, lower_bounds, upper_bounds):\n",
        "        create a plot with a size of 10x6\n",
        "        plot pi estimates as a line with markers and dashed lines\n",
        "        plot lower bounds as black dashed lines\n",
        "        plot upper bounds as black dashed lines\n",
        "        fill the area between lower bounds and upper bounds with gray\n",
        "        plot a red line at the true value of pi\n",
        "        add x-axis and y-axis labels, a title, a legend, and grid lines\n",
        "        show the plot\n",
        "\n",
        "method run_simulation(num_iterations):\n",
        "        initialize empty lists pi_estimates, lower_bounds, and upper_bounds\n",
        "        repeat for num_iterations times:\n",
        "            calculate pi_estimate, points, inside using estimate_pi()  # call the method above\n",
        "            append pi_estimate to pi_estimates\n",
        "            calculate mean, lower, upper using confidence_interval()  # call the method above\n",
        "            append lower to lower_bounds\n",
        "            append upper to upper_bounds\n",
        "        call plot_points(points, inside)  # call the method above\n",
        "        call plot_convergence(pi_estimates, lower_bounds, upper_bounds)  # call the method above\n",
        "        print \"Final Estimated Pi:\", mean\n",
        "        print \"Final 95% Confidence Interval:\", (lower, upper)\n",
        "\n"
      ]
    }
  ]
}