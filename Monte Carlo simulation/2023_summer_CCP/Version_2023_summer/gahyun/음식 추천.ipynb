{
  "nbformat": 4,
  "nbformat_minor": 0,
  "metadata": {
    "colab": {
      "provenance": [],
      "authorship_tag": "ABX9TyO/tCwP/koM8ZYloqgFPx0j",
      "include_colab_link": true
    },
    "kernelspec": {
      "name": "python3",
      "display_name": "Python 3"
    },
    "language_info": {
      "name": "python"
    }
  },
  "cells": [
    {
      "cell_type": "markdown",
      "metadata": {
        "id": "view-in-github",
        "colab_type": "text"
      },
      "source": [
        "<a href=\"https://colab.research.google.com/github/Jeongmin0658/kentech_tutorial/blob/main/Version_2023_summer/gahyun/%EC%9D%8C%EC%8B%9D%20%EC%B6%94%EC%B2%9C.ipynb\" target=\"_parent\"><img src=\"https://colab.research.google.com/assets/colab-badge.svg\" alt=\"Open In Colab\"/></a>"
      ]
    },
    {
      "cell_type": "code",
      "execution_count": 5,
      "metadata": {
        "colab": {
          "base_uri": "https://localhost:8080/"
        },
        "id": "XP9Q7Zn6FKfN",
        "outputId": "d29f0fa3-a55d-41f3-fa3f-83fa0a34110f"
      },
      "outputs": [
        {
          "output_type": "stream",
          "name": "stdout",
          "text": [
            "음식 1 : 떡볶이\n",
            "음식 2 : 치킨\n",
            "음식 3 : 족발\n",
            "음식 4 : 짜장면\n",
            "음식 5 : 보쌈\n",
            "\n",
            "추천 음식은 짜장면입니다.\n"
          ]
        }
      ],
      "source": [
        "import random\n",
        "list=[]\n",
        "\n",
        "for i in range(1,6):\n",
        "  a=input(\"음식 %d : \" % i)\n",
        "  list.append(a)\n",
        "\n",
        "b=random.choice(list)\n",
        "\n",
        "\n",
        "print(\"\\n추천 음식은 %s입니다.\" % b)"
      ]
    }
  ]
}