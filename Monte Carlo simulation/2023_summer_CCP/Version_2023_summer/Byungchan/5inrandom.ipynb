{
  "nbformat": 4,
  "nbformat_minor": 0,
  "metadata": {
    "colab": {
      "provenance": [],
      "authorship_tag": "ABX9TyOYTkXoWhUuWpMZMD3zGI87",
      "include_colab_link": true
    },
    "kernelspec": {
      "name": "python3",
      "display_name": "Python 3"
    },
    "language_info": {
      "name": "python"
    }
  },
  "cells": [
    {
      "cell_type": "markdown",
      "metadata": {
        "id": "view-in-github",
        "colab_type": "text"
      },
      "source": [
        "<a href=\"https://colab.research.google.com/github/Jeongmin0658/kentech_tutorial/blob/main/Version_2023_summer/Byungchan/5inrandom.ipynb\" target=\"_parent\"><img src=\"https://colab.research.google.com/assets/colab-badge.svg\" alt=\"Open In Colab\"/></a>"
      ]
    },
    {
      "cell_type": "code",
      "execution_count": 13,
      "metadata": {
        "colab": {
          "base_uri": "https://localhost:8080/"
        },
        "id": "oebRAJJwGAtM",
        "outputId": "25195d72-bd4c-452b-b398-007803b5bbb5"
      },
      "outputs": [
        {
          "output_type": "stream",
          "name": "stdout",
          "text": [
            "Return random integer in range [a, b], including both end points.\n",
            "        \n",
            "3\n"
          ]
        }
      ],
      "source": [
        "import random\n",
        "\n",
        "print(random.randint.__doc__)\n",
        "\n",
        "for i in range(1):\n",
        "  a = random.randint(1, 5)\n",
        "  print(f'{a}')\n",
        "\n",
        "\n",
        ""
      ]
    }
  ]
}