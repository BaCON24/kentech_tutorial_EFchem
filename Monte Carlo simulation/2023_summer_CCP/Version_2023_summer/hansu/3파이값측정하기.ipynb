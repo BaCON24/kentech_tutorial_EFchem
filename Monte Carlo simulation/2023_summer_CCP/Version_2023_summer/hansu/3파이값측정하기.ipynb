{
  "cells": [
    {
      "cell_type": "markdown",
      "metadata": {
        "id": "view-in-github",
        "colab_type": "text"
      },
      "source": [
        "<a href=\"https://colab.research.google.com/github/Jeongmin0658/kentech_tutorial/blob/main/Version_2023_summer/hansu/3%ED%8C%8C%EC%9D%B4%EA%B0%92%EC%B8%A1%EC%A0%95%ED%95%98%EA%B8%B0.ipynb\" target=\"_parent\"><img src=\"https://colab.research.google.com/assets/colab-badge.svg\" alt=\"Open In Colab\"/></a>"
      ]
    },
    {
      "cell_type": "markdown",
      "id": "ce4aa6e3",
      "metadata": {
        "id": "ce4aa6e3"
      },
      "source": [
        "# We estimate pi using Monte Carlo, i.e., random sampling."
      ]
    },
    {
      "cell_type": "markdown",
      "id": "8b2695bb",
      "metadata": {
        "id": "8b2695bb"
      },
      "source": [
        "![Unknown.png](attachment:Unknown.png)\n"
      ]
    },
    {
      "cell_type": "markdown",
      "id": "f091272d",
      "metadata": {
        "id": "f091272d"
      },
      "source": [
        "Think about how to estimate pi from the figure above, which we would like to generate through the Python code.\n",
        "\n",
        "Further, we would like to statistical analysis of the estimation of pi, i.e., how the estimate converges towards the true pi as shown below."
      ]
    },
    {
      "cell_type": "markdown",
      "id": "a0ee577c",
      "metadata": {
        "id": "a0ee577c"
      },
      "source": [
        "![Unknown-1.png](attachment:Unknown-1.png)"
      ]
    },
    {
      "cell_type": "code",
      "execution_count": 1,
      "id": "1fe0f263",
      "metadata": {
        "id": "1fe0f263",
        "outputId": "aefb435d-24a1-4122-ac7e-2f43d25eaa00",
        "colab": {
          "base_uri": "https://localhost:8080/",
          "height": 146
        }
      },
      "outputs": [
        {
          "output_type": "error",
          "ename": "SyntaxError",
          "evalue": "ignored",
          "traceback": [
            "\u001b[0;36m  File \u001b[0;32m\"<ipython-input-1-3dcf1e48c6ea>\"\u001b[0;36m, line \u001b[0;32m21\u001b[0m\n\u001b[0;31m    pi_estimate = ### EDIT!!!\u001b[0m\n\u001b[0m                  ^\u001b[0m\n\u001b[0;31mSyntaxError\u001b[0m\u001b[0;31m:\u001b[0m invalid syntax\n"
          ]
        }
      ],
      "source": [
        "import numpy as np\n",
        "import matplotlib.pyplot as plt\n",
        "import scipy.stats as stats\n",
        "\n",
        "class MonteCarloPi:\n",
        "    def __init__(self, num_points):\n",
        "        self.num_points = num_points\n",
        "\n",
        "    def generate_points(self):\n",
        "        \"\"\"Generate random points within a square of length 2.\"\"\"\n",
        "        # EDIT!!!\n",
        "        x = np.random.uniform(-1, 1, num_points)\n",
        "        y = np.random.uniform(-1,1, num_points)\n",
        "\n",
        "\n",
        "    def inside_circle(self, points):\n",
        "        \"\"\"Check if the points are within the unit circle.\"\"\"\n",
        "        # EDIT!!!\n",
        "\n",
        "    def estimate_pi(self):\n",
        "        \"\"\"Estimate the value of pi using Monte Carlo method.\"\"\"\n",
        "        points = self.generate_points()\n",
        "        inside = self.inside_circle(points)\n",
        "        pi_estimate = ### EDIT!!!\n",
        "        return pi_estimate, points, inside\n",
        "\n",
        "    def confidence_interval(self, estimates, confidence=0.95):\n",
        "        \"\"\"Compute the confidence interval for the estimates.\"\"\"\n",
        "        mean = np.mean(estimates)\n",
        "        se = stats.sem(estimates)\n",
        "        # Understand the below\n",
        "        ci = se * stats.t.ppf((1 + confidence) / 2, len(estimates) - 1)\n",
        "        return mean, mean - ci, mean + ci\n",
        "\n",
        "    def plot_points(self, points, inside):\n",
        "        \"\"\"Plot points and the unit circle, color points inside the circle.\"\"\"\n",
        "        plt.figure(figsize=(6,6))\n",
        "        # Understand the below\n",
        "        plt.scatter(points[inside, 0], points[inside, 1], color='b', marker='.')\n",
        "        plt.scatter(points[~inside, 0], points[~inside, 1], color='r', marker='.')\n",
        "        plt.gca().set_aspect('equal')\n",
        "        plt.show()\n",
        "\n",
        "    def plot_convergence(self, pi_estimates, lower_bounds, upper_bounds):\n",
        "        \"\"\"Plot the convergence of pi estimates and confidence interval.\"\"\"\n",
        "        plt.figure(figsize=(10, 6))\n",
        "        plt.plot(pi_estimates, marker='o', linestyle='dashed')\n",
        "        plt.plot(lower_bounds, color='black', linestyle='--')\n",
        "        plt.plot(upper_bounds, color='black', linestyle='--')\n",
        "        plt.fill_between(range(len(lower_bounds)), lower_bounds, upper_bounds, color='gray', alpha=0.5, label='Confidence Interval')\n",
        "        plt.axhline(np.pi, color='red', label='True Value of Pi')\n",
        "        plt.xlabel('Number of iterations (x1000)')\n",
        "        plt.ylabel('Estimated Pi')\n",
        "        plt.title('Convergence of Pi estimates')\n",
        "        plt.legend()\n",
        "        plt.grid(True)\n",
        "        plt.show()\n",
        "\n",
        "\n",
        "    def run_simulation(self, num_iterations):\n",
        "        \"\"\"Run the Monte Carlo simulation and analyze the results.\"\"\"\n",
        "        pi_estimates = []\n",
        "        lower_bounds = []\n",
        "        upper_bounds = []\n",
        "\n",
        "        for _ in range(num_iterations):\n",
        "            pi_estimate, points, inside = self.estimate_pi()\n",
        "            pi_estimates.append(pi_estimate)\n",
        "\n",
        "            # Compute confidence interval after each estimate and store bounds\n",
        "            mean, lower, upper = self.confidence_interval(pi_estimates)\n",
        "            lower_bounds.append(lower)\n",
        "            upper_bounds.append(upper)\n",
        "\n",
        "        self.plot_points(points, inside)\n",
        "        self.plot_convergence(pi_estimates, lower_bounds, upper_bounds)\n",
        "        print(f\"Final Estimated Pi: {mean:.4f}\")\n",
        "        print(f\"Final 95% Confidence Interval: ({lower:.4f}, {upper:.4f})\")\n",
        "\n",
        "# Usage:\n",
        "# Create an instance of the MonteCarloPi class\n",
        "mc = MonteCarloPi(num_points=10000)\n",
        "# Run the simulation\n",
        "mc.run_simulation(num_iterations=50)\n"
      ]
    },
    {
      "cell_type": "code",
      "execution_count": 1,
      "id": "85ba02c7",
      "metadata": {
        "id": "85ba02c7",
        "outputId": "2c73340c-7bb2-419b-80af-294b99e71048",
        "colab": {
          "base_uri": "https://localhost:8080/"
        }
      },
      "outputs": [
        {
          "output_type": "stream",
          "name": "stdout",
          "text": [
            "3.139808\n"
          ]
        }
      ],
      "source": [
        "import numpy as np\n",
        "def gp(num_points):\n",
        "\n",
        "  x = np.random.uniform(-1, 1, num_points)\n",
        "  y = np.random.uniform(-1,1, num_points)\n",
        "  return x, y\n",
        "\n",
        "def ic(x, y):\n",
        "  c = 0\n",
        "  for i in range(0, len(x)):\n",
        "    d = distance((x[i],y[i]))\n",
        "    if d <=1:\n",
        "      c+=1\n",
        "  return c\n",
        "\n",
        "\n",
        "def ep(c, num_points):\n",
        "  pi = 4*(c/num_points)\n",
        "  return pi\n",
        "\n",
        "\n",
        "def distance(p1):\n",
        "    return np.sqrt((p1[0])**2 + (p1[1])**2)\n",
        "\n",
        "num_points = 1000000\n",
        "x, y=gp(num_points)\n",
        "cc =  ic(x, y)\n",
        "pi = ep(cc, num_points)\n",
        "print(pi)"
      ]
    }
  ],
  "metadata": {
    "kernelspec": {
      "display_name": "Python 3 (ipykernel)",
      "language": "python",
      "name": "python3"
    },
    "language_info": {
      "codemirror_mode": {
        "name": "ipython",
        "version": 3
      },
      "file_extension": ".py",
      "mimetype": "text/x-python",
      "name": "python",
      "nbconvert_exporter": "python",
      "pygments_lexer": "ipython3",
      "version": "3.10.9"
    },
    "colab": {
      "provenance": [],
      "toc_visible": true,
      "include_colab_link": true
    }
  },
  "nbformat": 4,
  "nbformat_minor": 5
}