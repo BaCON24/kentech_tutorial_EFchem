{
 "cells": [
  {
   "cell_type": "markdown",
   "id": "0468307f",
   "metadata": {},
   "source": [
    "# Damped harmonic oscillator in a visous liquid"
   ]
  },
  {
   "cell_type": "code",
   "execution_count": 2,
   "id": "a63e8071",
   "metadata": {},
   "outputs": [
    {
     "ename": "SyntaxError",
     "evalue": "invalid syntax (1957988421.py, line 29)",
     "output_type": "error",
     "traceback": [
      "\u001b[0;36m  Cell \u001b[0;32mIn[2], line 29\u001b[0;36m\u001b[0m\n\u001b[0;31m    self.v += # EDIT HERE\u001b[0m\n\u001b[0m              ^\u001b[0m\n\u001b[0;31mSyntaxError\u001b[0m\u001b[0;31m:\u001b[0m invalid syntax\n"
     ]
    }
   ],
   "source": [
    "\"\"\"\n",
    "Computational Chemistry: Molecular Simulations\n",
    "Damped Harmonic Oscillator and its Time Evolution in Phase Space with Solvent Effects\n",
    "\n",
    "NOTE:\n",
    "This model represents a harmonic oscillator in one dimension with the effect of a solvent\n",
    "introduced as a viscous damping term. The damping is modeled by a friction coefficient,\n",
    "which is directly related to the viscosity of the solvent.\n",
    "\"\"\"\n",
    "\n",
    "import numpy as np\n",
    "import matplotlib.pyplot as plt\n",
    "\n",
    "class DampedHarmonicOscillator1D:\n",
    "    def __init__(self, k=1.0, m=1.0, gamma=0.1, x0=1.0, v0=0.0):\n",
    "        \"\"\"Initialize the damped oscillator with given parameters.\"\"\"\n",
    "        self.k = k  # force constant\n",
    "        self.m = m  # mass of the particle\n",
    "        self.gamma = gamma  # friction coefficient\n",
    "        self.x = x0  # initial position\n",
    "        self.v = v0  # initial velocity\n",
    "\n",
    "    def compute_force(self):\n",
    "        \"\"\"Compute the force for the damped harmonic oscillator.\"\"\"\n",
    "        return -self.k * self.x # EDIT HERE\n",
    "\n",
    "    def euler_step(self, dt):\n",
    "        \"\"\"Perform one step of Euler's method.\"\"\"\n",
    "        self.v += # EDIT HERE\n",
    "        self.x += self.v * dt\n",
    "        \n",
    "    def time_evolution(self, dt, num_steps):\n",
    "        \"\"\"Simulate the time evolution using Euler's method for a given number of steps.\"\"\"\n",
    "        times = np.linspace(0, dt*num_steps, num_steps+1)\n",
    "        x_values, v_values = [self.x], [self.v]\n",
    "        \n",
    "        for _ in range(num_steps):\n",
    "            self.euler_step(dt)\n",
    "            x_values.append(self.x)\n",
    "            v_values.append(self.v)\n",
    "        \n",
    "        return times, x_values, v_values\n",
    "    \n",
    "    def plot_phase_space_trajectory(self, x_values, v_values):\n",
    "        \"\"\"Plot the phase space trajectory of the damped oscillator.\"\"\"\n",
    "        plt.figure(figsize=(8, 6))\n",
    "        plt.plot(x_values, v_values, label='Phase Space Trajectory')\n",
    "        plt.xlabel('Position x')\n",
    "        plt.ylabel('Velocity v')\n",
    "        plt.title('Phase Space Trajectory of a Damped Harmonic Oscillator')\n",
    "        plt.legend()\n",
    "        plt.grid(True)\n",
    "        plt.show()\n",
    "        \n",
    "    def plot_position_vs_time(self, times, x_values):\n",
    "        \"\"\"Plot the position as a function of time for the damped oscillator.\"\"\"\n",
    "        plt.figure(figsize=(8, 6))\n",
    "        plt.plot(times, x_values, label='Position vs Time')\n",
    "        plt.xlabel('Time')\n",
    "        plt.ylabel('Position x')\n",
    "        plt.title('Position of the Damped Harmonic Oscillator as a Function of Time')\n",
    "        plt.legend()\n",
    "        plt.grid(True)\n",
    "        plt.show()\n",
    "\n",
    "    def plot_velocity_vs_time(self, times, v_values):\n",
    "        \"\"\"Plot the velocity as a function of time for the damped oscillator.\"\"\"\n",
    "        plt.figure(figsize=(8, 6))\n",
    "        plt.plot(times, v_values, label='Velocity vs Time')\n",
    "        plt.xlabel('Time')\n",
    "        plt.ylabel('Velocity v')\n",
    "        plt.title('Velocity of the Damped Harmonic Oscillator as a Function of Time')\n",
    "        plt.legend()\n",
    "        plt.grid(True)\n",
    "        plt.show()\n",
    "\n",
    "# Instantiate the Damped Harmonic Oscillator and simulate its time evolution for a desired number of steps\n",
    "oscillator = DampedHarmonicOscillator1D()\n",
    "times, x_values, v_values = oscillator.time_evolution(dt=0.01, num_steps=100000)  # Simulate for 1000 steps\n",
    "oscillator.plot_phase_space_trajectory(x_values, v_values)\n",
    "oscillator.plot_position_vs_time(times, x_values)\n",
    "oscillator.plot_velocity_vs_time(times, v_values)\n"
   ]
  },
  {
   "cell_type": "code",
   "execution_count": null,
   "id": "1e2a88c6",
   "metadata": {},
   "outputs": [],
   "source": []
  }
 ],
 "metadata": {
  "kernelspec": {
   "display_name": "Python 3 (ipykernel)",
   "language": "python",
   "name": "python3"
  },
  "language_info": {
   "codemirror_mode": {
    "name": "ipython",
    "version": 3
   },
   "file_extension": ".py",
   "mimetype": "text/x-python",
   "name": "python",
   "nbconvert_exporter": "python",
   "pygments_lexer": "ipython3",
   "version": "3.10.9"
  }
 },
 "nbformat": 4,
 "nbformat_minor": 5
}
