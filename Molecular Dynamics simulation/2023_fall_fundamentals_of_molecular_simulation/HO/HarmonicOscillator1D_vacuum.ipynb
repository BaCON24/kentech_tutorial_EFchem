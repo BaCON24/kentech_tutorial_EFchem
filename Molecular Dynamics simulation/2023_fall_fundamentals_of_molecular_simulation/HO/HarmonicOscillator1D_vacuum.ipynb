{
 "cells": [
  {
   "cell_type": "markdown",
   "id": "fd86497c",
   "metadata": {},
   "source": [
    "# Harmonic oscillator in vacuum"
   ]
  },
  {
   "cell_type": "code",
   "execution_count": 1,
   "id": "c696ad66",
   "metadata": {},
   "outputs": [
    {
     "ename": "SyntaxError",
     "evalue": "invalid syntax (1704674491.py, line 31)",
     "output_type": "error",
     "traceback": [
      "\u001b[0;36m  Cell \u001b[0;32mIn[1], line 31\u001b[0;36m\u001b[0m\n\u001b[0;31m    self.x += # EDIT HERE\u001b[0m\n\u001b[0m              ^\u001b[0m\n\u001b[0;31mSyntaxError\u001b[0m\u001b[0;31m:\u001b[0m invalid syntax\n"
     ]
    }
   ],
   "source": [
    "\"\"\"\n",
    "Computational Chemistry: Molecular Simulations\n",
    "Harmonic Oscillator and its Time Evolution in Phase Space\n",
    "\n",
    "NOTE:\n",
    "This model is a simple representation of a harmonic oscillator in one dimension. \n",
    "There are no external influences such as a solvent. Therefore, the dynamics can be \n",
    "thought of as occurring in a vacuum or an isolated environment. More complex environments,\n",
    "like solvent effects, would require advanced methods and models which are not included \n",
    "in this basic representation.\n",
    "\"\"\"\n",
    "\n",
    "import numpy as np\n",
    "import matplotlib.pyplot as plt\n",
    "\n",
    "class HarmonicOscillator1D:\n",
    "    def __init__(self, k=1.0, m=1.0, x0=1.0, v0=0.0):\n",
    "        \"\"\"Initialize the oscillator with given parameters.\"\"\"\n",
    "        self.k = k  # force constant\n",
    "        self.m = m  # mass of the particle\n",
    "        self.x = x0  # initial position\n",
    "        self.v = v0  # initial velocity\n",
    "\n",
    "    def compute_force(self):\n",
    "        \"\"\"Compute the force for the harmonic oscillator.\"\"\"\n",
    "        return # EDIT HERE\n",
    "\n",
    "    def euler_step(self, dt):\n",
    "        \"\"\"Perform one step of Euler's method.\"\"\"\n",
    "        self.v += self.compute_force() / self.m * dt\n",
    "        self.x += # EDIT HERE\n",
    "        \n",
    "    def time_evolution(self, dt, num_steps):\n",
    "        \"\"\"Simulate the time evolution using Euler's method for a given number of steps.\"\"\"\n",
    "        times = np.linspace(0, dt*num_steps, num_steps+1)\n",
    "        x_values, v_values = [self.x], [self.v]\n",
    "        \n",
    "        for _ in range(num_steps):\n",
    "            self.euler_step(dt)\n",
    "            x_values.append(self.x)\n",
    "            v_values.append(self.v)\n",
    "        \n",
    "        return times, x_values, v_values\n",
    "    \n",
    "    def plot_phase_space_trajectory(self, x_values, v_values):\n",
    "        \"\"\"Plot the phase space trajectory of the oscillator.\"\"\"\n",
    "        plt.figure(figsize=(8, 6))\n",
    "        plt.plot(x_values, v_values, label='Phase Space Trajectory')\n",
    "        plt.xlabel('Position x')\n",
    "        plt.ylabel('Velocity v')\n",
    "        plt.title('Phase Space Trajectory of a Harmonic Oscillator')\n",
    "        plt.legend()\n",
    "        plt.grid(True)\n",
    "        plt.show()\n",
    "        \n",
    "    def plot_position_vs_time(self, times, x_values):\n",
    "        \"\"\"Plot the position as a function of time.\"\"\"\n",
    "        plt.figure(figsize=(8, 6))\n",
    "        plt.plot(times, x_values, label='Position vs Time')\n",
    "        plt.xlabel('Time')\n",
    "        plt.ylabel('Position x')\n",
    "        plt.title('Position of the Harmonic Oscillator as a Function of Time')\n",
    "        plt.legend()\n",
    "        plt.grid(True)\n",
    "        plt.show()\n",
    "\n",
    "# Instantiate the Harmonic Oscillator and simulate its time evolution for a desired number of steps\n",
    "oscillator = HarmonicOscillator1D()\n",
    "times, x_values, v_values = oscillator.time_evolution(dt=0.01, num_steps=1000)  # Simulate for 1000 steps\n",
    "oscillator.plot_phase_space_trajectory(x_values, v_values)\n",
    "oscillator.plot_position_vs_time(times, x_values)\n"
   ]
  },
  {
   "cell_type": "code",
   "execution_count": null,
   "id": "50107123",
   "metadata": {},
   "outputs": [],
   "source": []
  },
  {
   "cell_type": "code",
   "execution_count": null,
   "id": "b9c04066",
   "metadata": {},
   "outputs": [],
   "source": []
  }
 ],
 "metadata": {
  "kernelspec": {
   "display_name": "Python 3 (ipykernel)",
   "language": "python",
   "name": "python3"
  },
  "language_info": {
   "codemirror_mode": {
    "name": "ipython",
    "version": 3
   },
   "file_extension": ".py",
   "mimetype": "text/x-python",
   "name": "python",
   "nbconvert_exporter": "python",
   "pygments_lexer": "ipython3",
   "version": "3.10.9"
  }
 },
 "nbformat": 4,
 "nbformat_minor": 5
}
