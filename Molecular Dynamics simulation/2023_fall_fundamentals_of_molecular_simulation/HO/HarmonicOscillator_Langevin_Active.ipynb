{
 "cells": [
  {
   "cell_type": "markdown",
   "id": "76b24d99",
   "metadata": {},
   "source": [
    "# Active harmonic oscillator in a viscous liquid with thermal motion"
   ]
  },
  {
   "cell_type": "code",
   "execution_count": 3,
   "id": "443e7357",
   "metadata": {
    "scrolled": false
   },
   "outputs": [],
   "source": [
    "import numpy as np\n",
    "import matplotlib.pyplot as plt\n",
    "\n",
    "class HarmonicOscillatorLangevin:\n",
    "    def __init__(self, k=1.0, m=1.0, gamma=0.1, T=300.0, x0=1.0, v0=0.0):\n",
    "        \"\"\"Initialize the Langevin oscillator with given parameters.\"\"\"\n",
    "        self.k = k\n",
    "        self.m = m\n",
    "        self.gamma = gamma\n",
    "        self.T = T\n",
    "        self.k_B = 1 #1.380649e-23  \n",
    "        self.x = x0\n",
    "        self.v = v0\n",
    "        self.time_evolution_strategy = None\n",
    "\n",
    "    def set_time_evolution_strategy(self, strategy):\n",
    "        \"\"\"Set the strategy for time evolution.\"\"\"\n",
    "        self.time_evolution_strategy = strategy\n",
    "\n",
    "    def compute_force(self):\n",
    "        \"\"\"Compute the deterministic part of the force for the Langevin oscillator.\"\"\"\n",
    "        return -self.k * self.x\n",
    "\n",
    "    def time_evolution(self, dt, num_steps):\n",
    "        \"\"\"Simulate the time evolution using the specified strategy for a given number of steps.\"\"\"\n",
    "        return self.time_evolution_strategy.evolve(self, dt, num_steps)\n",
    "    \n",
    "    def plot_phase_space_trajectory(self, x_values, v_values):\n",
    "        \"\"\"Plot the phase space trajectory of the Langevin oscillator.\"\"\"\n",
    "        plt.figure(figsize=(8, 6))\n",
    "        plt.plot(x_values, v_values, label='Phase Space Trajectory')\n",
    "        plt.xlabel('Position x')\n",
    "        plt.ylabel('Velocity v')\n",
    "        plt.title('Phase Space Trajectory using Langevin Dynamics')\n",
    "        plt.legend()\n",
    "        plt.grid(True)\n",
    "        plt.show()\n",
    "        \n",
    "    def plot_position_vs_time(self, times, x_values):\n",
    "        \"\"\"Plot the position as a function of time for the Langevin oscillator.\"\"\"\n",
    "        plt.figure(figsize=(8, 6))\n",
    "        plt.plot(times, x_values, label='Position vs Time')\n",
    "        plt.xlabel('Time')\n",
    "        plt.ylabel('Position x')\n",
    "        plt.title('Position using Langevin Dynamics')\n",
    "        plt.legend()\n",
    "        plt.grid(True)\n",
    "        plt.show()\n",
    "\n",
    "    def plot_velocity_vs_time(self, times, v_values):\n",
    "        \"\"\"Plot the velocity as a function of time for the Langevin oscillator.\"\"\"\n",
    "        plt.figure(figsize=(8, 6))\n",
    "        plt.plot(times, v_values, label='Velocity vs Time')\n",
    "        plt.xlabel('Time')\n",
    "        plt.ylabel('Velocity v')\n",
    "        plt.title('Velocity using Langevin Dynamics')\n",
    "        plt.legend()\n",
    "        plt.grid(True)\n",
    "        plt.show()\n"
   ]
  },
  {
   "cell_type": "code",
   "execution_count": 1,
   "id": "0aa98456",
   "metadata": {},
   "outputs": [],
   "source": [
    "###\n",
    "# time evolution\n",
    "###\n",
    "class EulerMethod:\n",
    "    @staticmethod\n",
    "    def evolve(oscillator, dt, num_steps):\n",
    "        times = np.linspace(0, dt*num_steps, num_steps+1)\n",
    "        x_values, v_values = [oscillator.x], [oscillator.v]\n",
    "        \n",
    "        for _ in range(num_steps):\n",
    "            oscillator.v += oscillator.compute_force() / oscillator.m * dt - oscillator.gamma * oscillator.v * dt\n",
    "            oscillator.x += oscillator.v * dt\n",
    "            \n",
    "            x_values.append(oscillator.x)\n",
    "            v_values.append(oscillator.v)\n",
    "        \n",
    "        return times, x_values, v_values\n",
    "\n",
    "\n",
    "class EulerMaruyamaMethod:\n",
    "    @staticmethod\n",
    "    def evolve(oscillator, dt, num_steps):\n",
    "        times = np.linspace(0, dt*num_steps, num_steps+1)\n",
    "        x_values, v_values = [oscillator.x], [oscillator.v]\n",
    "        \n",
    "        for _ in range(num_steps):\n",
    "            deterministic_force = oscillator.compute_force()\n",
    "            stochastic_force = np.sqrt(2. * oscillator.gamma * oscillator.k_B * oscillator.T) * np.random.normal()\n",
    "            \n",
    "            oscillator.v += (deterministic_force / oscillator.m - oscillator.gamma * oscillator.v) * dt + stochastic_force / oscillator.m * np.sqrt(dt)\n",
    "            oscillator.x += oscillator.v * dt\n",
    "            \n",
    "            x_values.append(oscillator.x)\n",
    "            v_values.append(oscillator.v)\n",
    "        \n",
    "        return times, x_values, v_values\n",
    "\n",
    "\n",
    "class LangevinVelocityVerletMethod:\n",
    "    @staticmethod\n",
    "    def evolve(oscillator, dt, num_steps):\n",
    "        times = np.linspace(0, dt*num_steps, num_steps+1)\n",
    "        x_values, v_values = [oscillator.x], [oscillator.v]\n",
    "        \n",
    "        sqrt_dt = np.sqrt(2 * oscillator.gamma * oscillator.k_B * oscillator.T / oscillator.m) * np.sqrt(dt)\n",
    "        \n",
    "        for _ in range(num_steps):\n",
    "            # Half update of velocity with deterministic and stochastic forces\n",
    "            a = oscillator.compute_force() / oscillator.m\n",
    "            v_half = oscillator.v + 0.5 * dt * (a - oscillator.gamma * oscillator.v) + sqrt_dt * np.random.normal(0, 1)\n",
    "            \n",
    "            # Update position\n",
    "            oscillator.x += dt * v_half\n",
    "\n",
    "            # New acceleration\n",
    "            a_new = oscillator.compute_force() / oscillator.m\n",
    "\n",
    "            # Complete velocity update\n",
    "            oscillator.v = v_half + 0.5 * dt * (a_new - oscillator.gamma * oscillator.v) \n",
    "\n",
    "            x_values.append(oscillator.x)\n",
    "            v_values.append(oscillator.v)\n",
    "        \n",
    "        return times, x_values, v_values\n",
    "    \n"
   ]
  },
  {
   "cell_type": "markdown",
   "id": "5308d443",
   "metadata": {},
   "source": [
    "# Add activity that is produced at the level of individual particle"
   ]
  },
  {
   "cell_type": "code",
   "execution_count": 2,
   "id": "557224f3",
   "metadata": {},
   "outputs": [
    {
     "ename": "SyntaxError",
     "evalue": "invalid syntax (401400913.py, line 12)",
     "output_type": "error",
     "traceback": [
      "\u001b[0;36m  Cell \u001b[0;32mIn[2], line 12\u001b[0;36m\u001b[0m\n\u001b[0;31m    active_force = # EDIT HERE\u001b[0m\n\u001b[0m                   ^\u001b[0m\n\u001b[0;31mSyntaxError\u001b[0m\u001b[0;31m:\u001b[0m invalid syntax\n"
     ]
    }
   ],
   "source": [
    "class ActiveHarmonicOscillatorLangevin(HarmonicOscillatorLangevin):\n",
    "    def __init__(self, F_active=0.1, switch_steps=100, *args, **kwargs):\n",
    "        super().__init__(*args, **kwargs)\n",
    "        self.F_active = F_active\n",
    "        self.switch_steps = switch_steps\n",
    "        self.steps_since_last_switch = 0\n",
    "        self.active_direction = np.sign(np.random.randn())  # Randomly set to +1 or -1\n",
    "        \n",
    "    def compute_force(self):\n",
    "        \"\"\"Compute the total force including the harmonic, damping, and active terms.\"\"\"\n",
    "        harmonic_force = super().compute_force()\n",
    "        active_force = # EDIT HERE\n",
    "        \n",
    "        # Check if we need to switch the direction of the active force\n",
    "        self.steps_since_last_switch += 1\n",
    "        if self.steps_since_last_switch >= self.switch_steps:\n",
    "            self.active_direction = np.sign(np.random.randn())\n",
    "            self.steps_since_last_switch = 0\n",
    "        \n",
    "        return harmonic_force + active_force\n"
   ]
  },
  {
   "cell_type": "markdown",
   "id": "42ea9346",
   "metadata": {},
   "source": [
    "# Let's test our active oscillator: Passive vs. Active\n"
   ]
  },
  {
   "cell_type": "code",
   "execution_count": 4,
   "id": "5e256a13",
   "metadata": {},
   "outputs": [
    {
     "ename": "NameError",
     "evalue": "name 'ActiveHarmonicOscillatorLangevin' is not defined",
     "output_type": "error",
     "traceback": [
      "\u001b[0;31m---------------------------------------------------------------------------\u001b[0m",
      "\u001b[0;31mNameError\u001b[0m                                 Traceback (most recent call last)",
      "Cell \u001b[0;32mIn[4], line 5\u001b[0m\n\u001b[1;32m      1\u001b[0m \u001b[38;5;66;03m###\u001b[39;00m\n\u001b[1;32m      2\u001b[0m \u001b[38;5;66;03m# Passive\u001b[39;00m\n\u001b[1;32m      3\u001b[0m \u001b[38;5;66;03m###\u001b[39;00m\n\u001b[1;32m      4\u001b[0m \u001b[38;5;66;03m# Create an instance and set the evolution strategy\u001b[39;00m\n\u001b[0;32m----> 5\u001b[0m active_oscillator \u001b[38;5;241m=\u001b[39m \u001b[43mActiveHarmonicOscillatorLangevin\u001b[49m(gamma\u001b[38;5;241m=\u001b[39m\u001b[38;5;241m1.0\u001b[39m, T\u001b[38;5;241m=\u001b[39m\u001b[38;5;241m0.1\u001b[39m, F_active\u001b[38;5;241m=\u001b[39m\u001b[38;5;241m0.\u001b[39m, switch_steps\u001b[38;5;241m=\u001b[39m\u001b[38;5;241m1000\u001b[39m)\n\u001b[1;32m      7\u001b[0m active_oscillator\u001b[38;5;241m.\u001b[39mset_time_evolution_strategy(LangevinVelocityVerletMethod)\n\u001b[1;32m      8\u001b[0m times, x_values, v_values \u001b[38;5;241m=\u001b[39m active_oscillator\u001b[38;5;241m.\u001b[39mtime_evolution(dt\u001b[38;5;241m=\u001b[39m\u001b[38;5;241m0.01\u001b[39m, num_steps\u001b[38;5;241m=\u001b[39m\u001b[38;5;241m10000\u001b[39m)\n",
      "\u001b[0;31mNameError\u001b[0m: name 'ActiveHarmonicOscillatorLangevin' is not defined"
     ]
    }
   ],
   "source": [
    "\n",
    "###\n",
    "# Passive\n",
    "###\n",
    "# Create an instance and set the evolution strategy\n",
    "active_oscillator = ActiveHarmonicOscillatorLangevin(gamma=1.0, T=0.1, F_active=0., switch_steps=1000)\n",
    "\n",
    "active_oscillator.set_time_evolution_strategy(LangevinVelocityVerletMethod)\n",
    "times, x_values, v_values = active_oscillator.time_evolution(dt=0.01, num_steps=10000)\n",
    "\n",
    "# Plotting results\n",
    "active_oscillator.plot_phase_space_trajectory(x_values, v_values)\n",
    "active_oscillator.plot_position_vs_time(times, x_values)\n",
    "\n",
    "###\n",
    "# Active\n",
    "###\n",
    "# Create an instance and set the evolution strategy\n",
    "active_oscillator = ActiveHarmonicOscillatorLangevin(gamma=1.0, T=0.1, F_active=5., switch_steps=1000)\n",
    "\n",
    "active_oscillator.set_time_evolution_strategy(LangevinVelocityVerletMethod)\n",
    "times, x_values, v_values = active_oscillator.time_evolution(dt=0.01, num_steps=10000)\n",
    "\n",
    "# Plotting results\n",
    "active_oscillator.plot_phase_space_trajectory(x_values, v_values)\n",
    "active_oscillator.plot_position_vs_time(times, x_values)"
   ]
  },
  {
   "cell_type": "code",
   "execution_count": null,
   "id": "24114758",
   "metadata": {},
   "outputs": [],
   "source": []
  }
 ],
 "metadata": {
  "kernelspec": {
   "display_name": "Python 3 (ipykernel)",
   "language": "python",
   "name": "python3"
  },
  "language_info": {
   "codemirror_mode": {
    "name": "ipython",
    "version": 3
   },
   "file_extension": ".py",
   "mimetype": "text/x-python",
   "name": "python",
   "nbconvert_exporter": "python",
   "pygments_lexer": "ipython3",
   "version": "3.10.9"
  }
 },
 "nbformat": 4,
 "nbformat_minor": 5
}
