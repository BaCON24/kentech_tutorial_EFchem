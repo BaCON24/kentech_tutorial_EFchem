{
 "cells": [
  {
   "cell_type": "markdown",
   "id": "5f036f3b",
   "metadata": {},
   "source": [
    "# Harmonic Oscillator: From Vacuum to Active Behavior\n",
    "\n",
    "---\n",
    "\n",
    "## 1. Harmonic Oscillator in Vacuum (HO in Vacuum)\n",
    "\n",
    "Consider a simple harmonic oscillator, which is a mass $m$ connected to a spring with spring constant $k$. Its dynamics in the absence of any external force and in a vacuum can be described by Newton's second law:\n",
    "\n",
    "$m \\frac{d^2x}{dt^2} = -kx$\n",
    "\n",
    "The negative sign indicates that the force exerted by the spring is always in the opposite direction of the displacement $x$ from its equilibrium position. When we solve this differential equation, we get solutions which describe simple harmonic motion:\n",
    "\n",
    "$x(t) = x_0 \\cos(\\omega t) + \\frac{v_0}{\\omega} \\sin(\\omega t)$\n",
    "\n",
    "where \n",
    "$\\omega = \\sqrt{\\frac{k}{m}}$\n",
    "is the angular frequency, $x_0$ is the initial displacement, and $v_0$ is the initial velocity.\n",
    "\n",
    "---\n",
    "\n",
    "## 2. Harmonic Oscillator in a Viscous Liquid (Damped HO)\n",
    "\n",
    "When the harmonic oscillator is placed in a viscous medium, like a liquid, it experiences a drag force proportional to its velocity. This is described by:\n",
    "\n",
    "$m \\frac{d^2x}{dt^2} = -kx - \\gamma \\frac{dx}{dt}$\n",
    "\n",
    "Here, $\\gamma$ is the damping coefficient representing the strength of the damping due to the medium. The drag force $-\\gamma \\frac{dx}{dt}$ opposes the motion and is responsible for the oscillator eventually coming to rest.\n",
    "\n",
    "---\n",
    "\n",
    "## 3. Langevin Harmonic Oscillator (damped and thermally kicked)\n",
    "\n",
    "In the real world, particularly at microscopic scales, particles are subjected to random forces from their surroundings. This stochastic behavior is often modeled using Langevin dynamics. The equation of motion for a particle in a harmonic potential subjected to both damping and thermal noise is:\n",
    "\n",
    "$m \\frac{d^2x}{dt^2} = -kx - \\gamma \\frac{dx}{dt} + \\sqrt{2 \\gamma k_B T} R(t)$\n",
    "\n",
    "Where $k_B$ is Boltzmann's constant, $T$ is the temperature, and $R(t)$ is a white noise term with zero mean and unit variance.\n",
    "\n",
    "---\n",
    "\n",
    "## 4. Active Langevin Harmonic Oscillator (damped, thermally kicked, and driven at the level of individual particles)\n",
    "\n",
    "Beyond simple thermal effects, particles, especially biological ones like bacteria, exhibit \"active\" behaviors. These active motions can be modeled as a force in the Langevin equation, making our particle an \"active Langevin\" particle. The equation of motion would be:\n",
    "\n",
    "$m \\frac{d^2x}{dt^2} = -kx - \\gamma \\frac{dx}{dt} + \\sqrt{2 \\gamma k_B T} R(t) + F_{\\text{active}}$\n",
    "\n",
    "Where $F_{\\text{active}}$ is the active force. One model for the active force is the Ornstein-Uhlenbeck process, which has memory and correlations over a timescale $\\tau$:\n",
    "\n",
    "$\\tau \\frac{dF_{\\text{active}}}{dt} = -F_{\\text{active}} + \\sqrt{2\\sigma^2\\tau} \\eta(t)$\n",
    "\n",
    "Here, $\\sigma$ describes the strength of the noise and $\\eta(t)$ is another white noise term.\n",
    "\n",
    "---\n",
    "\n"
   ]
  },
  {
   "cell_type": "code",
   "execution_count": null,
   "id": "f5f30706",
   "metadata": {},
   "outputs": [],
   "source": []
  }
 ],
 "metadata": {
  "kernelspec": {
   "display_name": "Python 3 (ipykernel)",
   "language": "python",
   "name": "python3"
  },
  "language_info": {
   "codemirror_mode": {
    "name": "ipython",
    "version": 3
   },
   "file_extension": ".py",
   "mimetype": "text/x-python",
   "name": "python",
   "nbconvert_exporter": "python",
   "pygments_lexer": "ipython3",
   "version": "3.10.9"
  }
 },
 "nbformat": 4,
 "nbformat_minor": 5
}
